import matplotlib.pyplot as plt
x = [1,2,3,4,5]
y = [1,4,9, 16, 25]
plt.plot(x, y)
plt.show()

import matplotlib.pyplot as plt
x = [1,2,3,4,5]
y = [1,4,9,16, 25]

plt.plot(x, y, marker="o", linestyle="-", color="b")
plt.xlabel("Valores de x")
plt.ylabel("Valores de y")
plt.title("Grafico de Linha")
plt.grid(True)
plt.show()

import matplotlib.pyplot as plt

categorias = ["A", "B", "C", "D", "E"]
valores = [10, 23, 17, 12, 15]

plt.bar(categorias, valores)
plt.xlabel("Categorias")
plt.ylabel("Valores")
plt.title("Grafico de Barras")
plt.show()

import matplotlib.pyplot as plt

x = [1,2,3,4,5]
y = [2,4,6,8,10]

plt.scatter(x,y)
plt.xlabel("Valores X")
plt.ylabel("Valores Y")
plt.title("Grafico de Dispersão")
plt.show()
